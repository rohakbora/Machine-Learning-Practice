{
  "nbformat": 4,
  "nbformat_minor": 0,
  "metadata": {
    "colab": {
      "provenance": [],
      "authorship_tag": "ABX9TyO9uITqAeRd5DJwZGrotuvK",
      "include_colab_link": true
    },
    "kernelspec": {
      "name": "python3",
      "display_name": "Python 3"
    },
    "language_info": {
      "name": "python"
    }
  },
  "cells": [
    {
      "cell_type": "markdown",
      "metadata": {
        "id": "view-in-github",
        "colab_type": "text"
      },
      "source": [
        "<a href=\"https://colab.research.google.com/github/rohakbora/Machine-Learning-Practice/blob/main/W1GA1.ipynb\" target=\"_parent\"><img src=\"https://colab.research.google.com/assets/colab-badge.svg\" alt=\"Open In Colab\"/></a>"
      ]
    },
    {
      "cell_type": "code",
      "execution_count": 86,
      "metadata": {
        "id": "ZeQvyddjdVT1"
      },
      "outputs": [],
      "source": [
        "import pandas as pd\n",
        "import numpy as np"
      ]
    },
    {
      "cell_type": "code",
      "source": [
        "csv = pd.read_csv(\"Week1_GA_dataset (1).csv\")\n",
        "csv.shape"
      ],
      "metadata": {
        "colab": {
          "base_uri": "https://localhost:8080/"
        },
        "id": "qrbpqk4jiqcn",
        "outputId": "ea38ff5f-29e7-4b55-b57c-72d644ad032a"
      },
      "execution_count": 87,
      "outputs": [
        {
          "output_type": "execute_result",
          "data": {
            "text/plain": [
              "(10000, 12)"
            ]
          },
          "metadata": {},
          "execution_count": 87
        }
      ]
    },
    {
      "cell_type": "code",
      "source": [
        "csv.head()"
      ],
      "metadata": {
        "colab": {
          "base_uri": "https://localhost:8080/",
          "height": 310
        },
        "id": "cw422EFCi6gT",
        "outputId": "1ef321e7-3f43-4e0b-bc14-3d4d7e764fb5"
      },
      "execution_count": 88,
      "outputs": [
        {
          "output_type": "execute_result",
          "data": {
            "text/plain": [
              "         Date  Year    Locality  Estimated Value  Sale Price       Property  \\\n",
              "0  2009-01-02  2009   Waterbury         111440.0    185000.0  Single Family   \n",
              "1  2009-01-02  2009  Bridgeport         124670.0    150000.0     Two Family   \n",
              "2  2009-01-02  2009   Waterbury          55720.0    140000.0  Single Family   \n",
              "3  2009-01-02  2009  Bridgeport        4775276.0    272900.0  Single Family   \n",
              "4  2009-01-02  2009  Bridgeport         112351.0    210000.0              ?   \n",
              "\n",
              "      Residential  num_rooms  num_bathrooms  carpet_area  property_tax_rate  \\\n",
              "0  Detached House          3              3        996.0           1.025953   \n",
              "1          Duplex          4              3       1241.0           1.025953   \n",
              "2  Detached House          3              2        910.0           1.025953   \n",
              "3  Detached House          3              1        971.0           1.025953   \n",
              "4  Detached House          3              2       1092.0           1.025953   \n",
              "\n",
              "    Face  \n",
              "0  South  \n",
              "1  South  \n",
              "2  South  \n",
              "3   East  \n",
              "4   East  "
            ],
            "text/html": [
              "\n",
              "  <div id=\"df-07ec3dd1-fc13-445b-a8e7-ce6441a6bd24\" class=\"colab-df-container\">\n",
              "    <div>\n",
              "<style scoped>\n",
              "    .dataframe tbody tr th:only-of-type {\n",
              "        vertical-align: middle;\n",
              "    }\n",
              "\n",
              "    .dataframe tbody tr th {\n",
              "        vertical-align: top;\n",
              "    }\n",
              "\n",
              "    .dataframe thead th {\n",
              "        text-align: right;\n",
              "    }\n",
              "</style>\n",
              "<table border=\"1\" class=\"dataframe\">\n",
              "  <thead>\n",
              "    <tr style=\"text-align: right;\">\n",
              "      <th></th>\n",
              "      <th>Date</th>\n",
              "      <th>Year</th>\n",
              "      <th>Locality</th>\n",
              "      <th>Estimated Value</th>\n",
              "      <th>Sale Price</th>\n",
              "      <th>Property</th>\n",
              "      <th>Residential</th>\n",
              "      <th>num_rooms</th>\n",
              "      <th>num_bathrooms</th>\n",
              "      <th>carpet_area</th>\n",
              "      <th>property_tax_rate</th>\n",
              "      <th>Face</th>\n",
              "    </tr>\n",
              "  </thead>\n",
              "  <tbody>\n",
              "    <tr>\n",
              "      <th>0</th>\n",
              "      <td>2009-01-02</td>\n",
              "      <td>2009</td>\n",
              "      <td>Waterbury</td>\n",
              "      <td>111440.0</td>\n",
              "      <td>185000.0</td>\n",
              "      <td>Single Family</td>\n",
              "      <td>Detached House</td>\n",
              "      <td>3</td>\n",
              "      <td>3</td>\n",
              "      <td>996.0</td>\n",
              "      <td>1.025953</td>\n",
              "      <td>South</td>\n",
              "    </tr>\n",
              "    <tr>\n",
              "      <th>1</th>\n",
              "      <td>2009-01-02</td>\n",
              "      <td>2009</td>\n",
              "      <td>Bridgeport</td>\n",
              "      <td>124670.0</td>\n",
              "      <td>150000.0</td>\n",
              "      <td>Two Family</td>\n",
              "      <td>Duplex</td>\n",
              "      <td>4</td>\n",
              "      <td>3</td>\n",
              "      <td>1241.0</td>\n",
              "      <td>1.025953</td>\n",
              "      <td>South</td>\n",
              "    </tr>\n",
              "    <tr>\n",
              "      <th>2</th>\n",
              "      <td>2009-01-02</td>\n",
              "      <td>2009</td>\n",
              "      <td>Waterbury</td>\n",
              "      <td>55720.0</td>\n",
              "      <td>140000.0</td>\n",
              "      <td>Single Family</td>\n",
              "      <td>Detached House</td>\n",
              "      <td>3</td>\n",
              "      <td>2</td>\n",
              "      <td>910.0</td>\n",
              "      <td>1.025953</td>\n",
              "      <td>South</td>\n",
              "    </tr>\n",
              "    <tr>\n",
              "      <th>3</th>\n",
              "      <td>2009-01-02</td>\n",
              "      <td>2009</td>\n",
              "      <td>Bridgeport</td>\n",
              "      <td>4775276.0</td>\n",
              "      <td>272900.0</td>\n",
              "      <td>Single Family</td>\n",
              "      <td>Detached House</td>\n",
              "      <td>3</td>\n",
              "      <td>1</td>\n",
              "      <td>971.0</td>\n",
              "      <td>1.025953</td>\n",
              "      <td>East</td>\n",
              "    </tr>\n",
              "    <tr>\n",
              "      <th>4</th>\n",
              "      <td>2009-01-02</td>\n",
              "      <td>2009</td>\n",
              "      <td>Bridgeport</td>\n",
              "      <td>112351.0</td>\n",
              "      <td>210000.0</td>\n",
              "      <td>?</td>\n",
              "      <td>Detached House</td>\n",
              "      <td>3</td>\n",
              "      <td>2</td>\n",
              "      <td>1092.0</td>\n",
              "      <td>1.025953</td>\n",
              "      <td>East</td>\n",
              "    </tr>\n",
              "  </tbody>\n",
              "</table>\n",
              "</div>\n",
              "    <div class=\"colab-df-buttons\">\n",
              "\n",
              "  <div class=\"colab-df-container\">\n",
              "    <button class=\"colab-df-convert\" onclick=\"convertToInteractive('df-07ec3dd1-fc13-445b-a8e7-ce6441a6bd24')\"\n",
              "            title=\"Convert this dataframe to an interactive table.\"\n",
              "            style=\"display:none;\">\n",
              "\n",
              "  <svg xmlns=\"http://www.w3.org/2000/svg\" height=\"24px\" viewBox=\"0 -960 960 960\">\n",
              "    <path d=\"M120-120v-720h720v720H120Zm60-500h600v-160H180v160Zm220 220h160v-160H400v160Zm0 220h160v-160H400v160ZM180-400h160v-160H180v160Zm440 0h160v-160H620v160ZM180-180h160v-160H180v160Zm440 0h160v-160H620v160Z\"/>\n",
              "  </svg>\n",
              "    </button>\n",
              "\n",
              "  <style>\n",
              "    .colab-df-container {\n",
              "      display:flex;\n",
              "      gap: 12px;\n",
              "    }\n",
              "\n",
              "    .colab-df-convert {\n",
              "      background-color: #E8F0FE;\n",
              "      border: none;\n",
              "      border-radius: 50%;\n",
              "      cursor: pointer;\n",
              "      display: none;\n",
              "      fill: #1967D2;\n",
              "      height: 32px;\n",
              "      padding: 0 0 0 0;\n",
              "      width: 32px;\n",
              "    }\n",
              "\n",
              "    .colab-df-convert:hover {\n",
              "      background-color: #E2EBFA;\n",
              "      box-shadow: 0px 1px 2px rgba(60, 64, 67, 0.3), 0px 1px 3px 1px rgba(60, 64, 67, 0.15);\n",
              "      fill: #174EA6;\n",
              "    }\n",
              "\n",
              "    .colab-df-buttons div {\n",
              "      margin-bottom: 4px;\n",
              "    }\n",
              "\n",
              "    [theme=dark] .colab-df-convert {\n",
              "      background-color: #3B4455;\n",
              "      fill: #D2E3FC;\n",
              "    }\n",
              "\n",
              "    [theme=dark] .colab-df-convert:hover {\n",
              "      background-color: #434B5C;\n",
              "      box-shadow: 0px 1px 3px 1px rgba(0, 0, 0, 0.15);\n",
              "      filter: drop-shadow(0px 1px 2px rgba(0, 0, 0, 0.3));\n",
              "      fill: #FFFFFF;\n",
              "    }\n",
              "  </style>\n",
              "\n",
              "    <script>\n",
              "      const buttonEl =\n",
              "        document.querySelector('#df-07ec3dd1-fc13-445b-a8e7-ce6441a6bd24 button.colab-df-convert');\n",
              "      buttonEl.style.display =\n",
              "        google.colab.kernel.accessAllowed ? 'block' : 'none';\n",
              "\n",
              "      async function convertToInteractive(key) {\n",
              "        const element = document.querySelector('#df-07ec3dd1-fc13-445b-a8e7-ce6441a6bd24');\n",
              "        const dataTable =\n",
              "          await google.colab.kernel.invokeFunction('convertToInteractive',\n",
              "                                                    [key], {});\n",
              "        if (!dataTable) return;\n",
              "\n",
              "        const docLinkHtml = 'Like what you see? Visit the ' +\n",
              "          '<a target=\"_blank\" href=https://colab.research.google.com/notebooks/data_table.ipynb>data table notebook</a>'\n",
              "          + ' to learn more about interactive tables.';\n",
              "        element.innerHTML = '';\n",
              "        dataTable['output_type'] = 'display_data';\n",
              "        await google.colab.output.renderOutput(dataTable, element);\n",
              "        const docLink = document.createElement('div');\n",
              "        docLink.innerHTML = docLinkHtml;\n",
              "        element.appendChild(docLink);\n",
              "      }\n",
              "    </script>\n",
              "  </div>\n",
              "\n",
              "\n",
              "<div id=\"df-5f6ba2a0-9fb6-44a7-8233-7cd7053a4b08\">\n",
              "  <button class=\"colab-df-quickchart\" onclick=\"quickchart('df-5f6ba2a0-9fb6-44a7-8233-7cd7053a4b08')\"\n",
              "            title=\"Suggest charts\"\n",
              "            style=\"display:none;\">\n",
              "\n",
              "<svg xmlns=\"http://www.w3.org/2000/svg\" height=\"24px\"viewBox=\"0 0 24 24\"\n",
              "     width=\"24px\">\n",
              "    <g>\n",
              "        <path d=\"M19 3H5c-1.1 0-2 .9-2 2v14c0 1.1.9 2 2 2h14c1.1 0 2-.9 2-2V5c0-1.1-.9-2-2-2zM9 17H7v-7h2v7zm4 0h-2V7h2v10zm4 0h-2v-4h2v4z\"/>\n",
              "    </g>\n",
              "</svg>\n",
              "  </button>\n",
              "\n",
              "<style>\n",
              "  .colab-df-quickchart {\n",
              "      --bg-color: #E8F0FE;\n",
              "      --fill-color: #1967D2;\n",
              "      --hover-bg-color: #E2EBFA;\n",
              "      --hover-fill-color: #174EA6;\n",
              "      --disabled-fill-color: #AAA;\n",
              "      --disabled-bg-color: #DDD;\n",
              "  }\n",
              "\n",
              "  [theme=dark] .colab-df-quickchart {\n",
              "      --bg-color: #3B4455;\n",
              "      --fill-color: #D2E3FC;\n",
              "      --hover-bg-color: #434B5C;\n",
              "      --hover-fill-color: #FFFFFF;\n",
              "      --disabled-bg-color: #3B4455;\n",
              "      --disabled-fill-color: #666;\n",
              "  }\n",
              "\n",
              "  .colab-df-quickchart {\n",
              "    background-color: var(--bg-color);\n",
              "    border: none;\n",
              "    border-radius: 50%;\n",
              "    cursor: pointer;\n",
              "    display: none;\n",
              "    fill: var(--fill-color);\n",
              "    height: 32px;\n",
              "    padding: 0;\n",
              "    width: 32px;\n",
              "  }\n",
              "\n",
              "  .colab-df-quickchart:hover {\n",
              "    background-color: var(--hover-bg-color);\n",
              "    box-shadow: 0 1px 2px rgba(60, 64, 67, 0.3), 0 1px 3px 1px rgba(60, 64, 67, 0.15);\n",
              "    fill: var(--button-hover-fill-color);\n",
              "  }\n",
              "\n",
              "  .colab-df-quickchart-complete:disabled,\n",
              "  .colab-df-quickchart-complete:disabled:hover {\n",
              "    background-color: var(--disabled-bg-color);\n",
              "    fill: var(--disabled-fill-color);\n",
              "    box-shadow: none;\n",
              "  }\n",
              "\n",
              "  .colab-df-spinner {\n",
              "    border: 2px solid var(--fill-color);\n",
              "    border-color: transparent;\n",
              "    border-bottom-color: var(--fill-color);\n",
              "    animation:\n",
              "      spin 1s steps(1) infinite;\n",
              "  }\n",
              "\n",
              "  @keyframes spin {\n",
              "    0% {\n",
              "      border-color: transparent;\n",
              "      border-bottom-color: var(--fill-color);\n",
              "      border-left-color: var(--fill-color);\n",
              "    }\n",
              "    20% {\n",
              "      border-color: transparent;\n",
              "      border-left-color: var(--fill-color);\n",
              "      border-top-color: var(--fill-color);\n",
              "    }\n",
              "    30% {\n",
              "      border-color: transparent;\n",
              "      border-left-color: var(--fill-color);\n",
              "      border-top-color: var(--fill-color);\n",
              "      border-right-color: var(--fill-color);\n",
              "    }\n",
              "    40% {\n",
              "      border-color: transparent;\n",
              "      border-right-color: var(--fill-color);\n",
              "      border-top-color: var(--fill-color);\n",
              "    }\n",
              "    60% {\n",
              "      border-color: transparent;\n",
              "      border-right-color: var(--fill-color);\n",
              "    }\n",
              "    80% {\n",
              "      border-color: transparent;\n",
              "      border-right-color: var(--fill-color);\n",
              "      border-bottom-color: var(--fill-color);\n",
              "    }\n",
              "    90% {\n",
              "      border-color: transparent;\n",
              "      border-bottom-color: var(--fill-color);\n",
              "    }\n",
              "  }\n",
              "</style>\n",
              "\n",
              "  <script>\n",
              "    async function quickchart(key) {\n",
              "      const quickchartButtonEl =\n",
              "        document.querySelector('#' + key + ' button');\n",
              "      quickchartButtonEl.disabled = true;  // To prevent multiple clicks.\n",
              "      quickchartButtonEl.classList.add('colab-df-spinner');\n",
              "      try {\n",
              "        const charts = await google.colab.kernel.invokeFunction(\n",
              "            'suggestCharts', [key], {});\n",
              "      } catch (error) {\n",
              "        console.error('Error during call to suggestCharts:', error);\n",
              "      }\n",
              "      quickchartButtonEl.classList.remove('colab-df-spinner');\n",
              "      quickchartButtonEl.classList.add('colab-df-quickchart-complete');\n",
              "    }\n",
              "    (() => {\n",
              "      let quickchartButtonEl =\n",
              "        document.querySelector('#df-5f6ba2a0-9fb6-44a7-8233-7cd7053a4b08 button');\n",
              "      quickchartButtonEl.style.display =\n",
              "        google.colab.kernel.accessAllowed ? 'block' : 'none';\n",
              "    })();\n",
              "  </script>\n",
              "</div>\n",
              "\n",
              "    </div>\n",
              "  </div>\n"
            ],
            "application/vnd.google.colaboratory.intrinsic+json": {
              "type": "dataframe",
              "variable_name": "csv",
              "summary": "{\n  \"name\": \"csv\",\n  \"rows\": 10000,\n  \"fields\": [\n    {\n      \"column\": \"Date\",\n      \"properties\": {\n        \"dtype\": \"object\",\n        \"num_unique_values\": 3110,\n        \"samples\": [\n          \"2012-03-04\",\n          \"2016-11-13\",\n          \"2009-11-23\"\n        ],\n        \"semantic_type\": \"\",\n        \"description\": \"\"\n      }\n    },\n    {\n      \"column\": \"Year\",\n      \"properties\": {\n        \"dtype\": \"number\",\n        \"std\": 4,\n        \"min\": 2009,\n        \"max\": 2022,\n        \"num_unique_values\": 14,\n        \"samples\": [\n          2018,\n          2020,\n          2009\n        ],\n        \"semantic_type\": \"\",\n        \"description\": \"\"\n      }\n    },\n    {\n      \"column\": \"Locality\",\n      \"properties\": {\n        \"dtype\": \"category\",\n        \"num_unique_values\": 7,\n        \"samples\": [\n          \"Waterbury\",\n          \"Bridgeport\",\n          \"West Hartford\"\n        ],\n        \"semantic_type\": \"\",\n        \"description\": \"\"\n      }\n    },\n    {\n      \"column\": \"Estimated Value\",\n      \"properties\": {\n        \"dtype\": \"number\",\n        \"std\": 779988.5337031306,\n        \"min\": 980.0,\n        \"max\": 21119910.0,\n        \"num_unique_values\": 7622,\n        \"samples\": [\n          704130.0,\n          200480.0,\n          304710.0\n        ],\n        \"semantic_type\": \"\",\n        \"description\": \"\"\n      }\n    },\n    {\n      \"column\": \"Sale Price\",\n      \"properties\": {\n        \"dtype\": \"number\",\n        \"std\": 1102810.3951816282,\n        \"min\": 2000.0,\n        \"max\": 25750000.0,\n        \"num_unique_values\": 2641,\n        \"samples\": [\n          97501.0,\n          65000.0,\n          1320000.0\n        ],\n        \"semantic_type\": \"\",\n        \"description\": \"\"\n      }\n    },\n    {\n      \"column\": \"Property\",\n      \"properties\": {\n        \"dtype\": \"category\",\n        \"num_unique_values\": 5,\n        \"samples\": [\n          \"Two Family\",\n          \"Four Family\",\n          \"?\"\n        ],\n        \"semantic_type\": \"\",\n        \"description\": \"\"\n      }\n    },\n    {\n      \"column\": \"Residential\",\n      \"properties\": {\n        \"dtype\": \"category\",\n        \"num_unique_values\": 4,\n        \"samples\": [\n          \"Duplex\",\n          \"Fourplex\",\n          \"Detached House\"\n        ],\n        \"semantic_type\": \"\",\n        \"description\": \"\"\n      }\n    },\n    {\n      \"column\": \"num_rooms\",\n      \"properties\": {\n        \"dtype\": \"number\",\n        \"std\": 0,\n        \"min\": 3,\n        \"max\": 8,\n        \"num_unique_values\": 4,\n        \"samples\": [\n          4,\n          8,\n          3\n        ],\n        \"semantic_type\": \"\",\n        \"description\": \"\"\n      }\n    },\n    {\n      \"column\": \"num_bathrooms\",\n      \"properties\": {\n        \"dtype\": \"number\",\n        \"std\": 1,\n        \"min\": 1,\n        \"max\": 8,\n        \"num_unique_values\": 8,\n        \"samples\": [\n          2,\n          6,\n          3\n        ],\n        \"semantic_type\": \"\",\n        \"description\": \"\"\n      }\n    },\n    {\n      \"column\": \"carpet_area\",\n      \"properties\": {\n        \"dtype\": \"number\",\n        \"std\": 308.0268502584688,\n        \"min\": 900.0,\n        \"max\": 2989.0,\n        \"num_unique_values\": 878,\n        \"samples\": [\n          1918.0,\n          968.0,\n          1291.0\n        ],\n        \"semantic_type\": \"\",\n        \"description\": \"\"\n      }\n    },\n    {\n      \"column\": \"property_tax_rate\",\n      \"properties\": {\n        \"dtype\": \"number\",\n        \"std\": 0.16845792877909108,\n        \"min\": 1.003979,\n        \"max\": 1.422308,\n        \"num_unique_values\": 14,\n        \"samples\": [\n          1.422308,\n          1.0254395,\n          1.025953\n        ],\n        \"semantic_type\": \"\",\n        \"description\": \"\"\n      }\n    },\n    {\n      \"column\": \"Face\",\n      \"properties\": {\n        \"dtype\": \"category\",\n        \"num_unique_values\": 4,\n        \"samples\": [\n          \"East\",\n          \"West\",\n          \"South\"\n        ],\n        \"semantic_type\": \"\",\n        \"description\": \"\"\n      }\n    }\n  ]\n}"
            }
          },
          "metadata": {},
          "execution_count": 88
        }
      ]
    },
    {
      "cell_type": "code",
      "source": [
        "count = (csv == \"?\").sum().sum()\n",
        "count"
      ],
      "metadata": {
        "colab": {
          "base_uri": "https://localhost:8080/"
        },
        "id": "lMKBD7gMjuJ9",
        "outputId": "ef5c939c-fd60-45c0-8170-e60f404527c5"
      },
      "execution_count": 89,
      "outputs": [
        {
          "output_type": "execute_result",
          "data": {
            "text/plain": [
              "1823"
            ]
          },
          "metadata": {},
          "execution_count": 89
        }
      ]
    },
    {
      "cell_type": "code",
      "source": [
        "csv.replace(\"?\", np.nan, inplace=True)\n",
        "csv.head()"
      ],
      "metadata": {
        "colab": {
          "base_uri": "https://localhost:8080/",
          "height": 310
        },
        "id": "VDXcu996i-37",
        "outputId": "1b751245-4040-4e42-e786-b55718698328"
      },
      "execution_count": 90,
      "outputs": [
        {
          "output_type": "execute_result",
          "data": {
            "text/plain": [
              "         Date  Year    Locality  Estimated Value  Sale Price       Property  \\\n",
              "0  2009-01-02  2009   Waterbury         111440.0    185000.0  Single Family   \n",
              "1  2009-01-02  2009  Bridgeport         124670.0    150000.0     Two Family   \n",
              "2  2009-01-02  2009   Waterbury          55720.0    140000.0  Single Family   \n",
              "3  2009-01-02  2009  Bridgeport        4775276.0    272900.0  Single Family   \n",
              "4  2009-01-02  2009  Bridgeport         112351.0    210000.0            NaN   \n",
              "\n",
              "      Residential  num_rooms  num_bathrooms  carpet_area  property_tax_rate  \\\n",
              "0  Detached House          3              3        996.0           1.025953   \n",
              "1          Duplex          4              3       1241.0           1.025953   \n",
              "2  Detached House          3              2        910.0           1.025953   \n",
              "3  Detached House          3              1        971.0           1.025953   \n",
              "4  Detached House          3              2       1092.0           1.025953   \n",
              "\n",
              "    Face  \n",
              "0  South  \n",
              "1  South  \n",
              "2  South  \n",
              "3   East  \n",
              "4   East  "
            ],
            "text/html": [
              "\n",
              "  <div id=\"df-42625eee-477d-4018-94fa-96d042d06005\" class=\"colab-df-container\">\n",
              "    <div>\n",
              "<style scoped>\n",
              "    .dataframe tbody tr th:only-of-type {\n",
              "        vertical-align: middle;\n",
              "    }\n",
              "\n",
              "    .dataframe tbody tr th {\n",
              "        vertical-align: top;\n",
              "    }\n",
              "\n",
              "    .dataframe thead th {\n",
              "        text-align: right;\n",
              "    }\n",
              "</style>\n",
              "<table border=\"1\" class=\"dataframe\">\n",
              "  <thead>\n",
              "    <tr style=\"text-align: right;\">\n",
              "      <th></th>\n",
              "      <th>Date</th>\n",
              "      <th>Year</th>\n",
              "      <th>Locality</th>\n",
              "      <th>Estimated Value</th>\n",
              "      <th>Sale Price</th>\n",
              "      <th>Property</th>\n",
              "      <th>Residential</th>\n",
              "      <th>num_rooms</th>\n",
              "      <th>num_bathrooms</th>\n",
              "      <th>carpet_area</th>\n",
              "      <th>property_tax_rate</th>\n",
              "      <th>Face</th>\n",
              "    </tr>\n",
              "  </thead>\n",
              "  <tbody>\n",
              "    <tr>\n",
              "      <th>0</th>\n",
              "      <td>2009-01-02</td>\n",
              "      <td>2009</td>\n",
              "      <td>Waterbury</td>\n",
              "      <td>111440.0</td>\n",
              "      <td>185000.0</td>\n",
              "      <td>Single Family</td>\n",
              "      <td>Detached House</td>\n",
              "      <td>3</td>\n",
              "      <td>3</td>\n",
              "      <td>996.0</td>\n",
              "      <td>1.025953</td>\n",
              "      <td>South</td>\n",
              "    </tr>\n",
              "    <tr>\n",
              "      <th>1</th>\n",
              "      <td>2009-01-02</td>\n",
              "      <td>2009</td>\n",
              "      <td>Bridgeport</td>\n",
              "      <td>124670.0</td>\n",
              "      <td>150000.0</td>\n",
              "      <td>Two Family</td>\n",
              "      <td>Duplex</td>\n",
              "      <td>4</td>\n",
              "      <td>3</td>\n",
              "      <td>1241.0</td>\n",
              "      <td>1.025953</td>\n",
              "      <td>South</td>\n",
              "    </tr>\n",
              "    <tr>\n",
              "      <th>2</th>\n",
              "      <td>2009-01-02</td>\n",
              "      <td>2009</td>\n",
              "      <td>Waterbury</td>\n",
              "      <td>55720.0</td>\n",
              "      <td>140000.0</td>\n",
              "      <td>Single Family</td>\n",
              "      <td>Detached House</td>\n",
              "      <td>3</td>\n",
              "      <td>2</td>\n",
              "      <td>910.0</td>\n",
              "      <td>1.025953</td>\n",
              "      <td>South</td>\n",
              "    </tr>\n",
              "    <tr>\n",
              "      <th>3</th>\n",
              "      <td>2009-01-02</td>\n",
              "      <td>2009</td>\n",
              "      <td>Bridgeport</td>\n",
              "      <td>4775276.0</td>\n",
              "      <td>272900.0</td>\n",
              "      <td>Single Family</td>\n",
              "      <td>Detached House</td>\n",
              "      <td>3</td>\n",
              "      <td>1</td>\n",
              "      <td>971.0</td>\n",
              "      <td>1.025953</td>\n",
              "      <td>East</td>\n",
              "    </tr>\n",
              "    <tr>\n",
              "      <th>4</th>\n",
              "      <td>2009-01-02</td>\n",
              "      <td>2009</td>\n",
              "      <td>Bridgeport</td>\n",
              "      <td>112351.0</td>\n",
              "      <td>210000.0</td>\n",
              "      <td>NaN</td>\n",
              "      <td>Detached House</td>\n",
              "      <td>3</td>\n",
              "      <td>2</td>\n",
              "      <td>1092.0</td>\n",
              "      <td>1.025953</td>\n",
              "      <td>East</td>\n",
              "    </tr>\n",
              "  </tbody>\n",
              "</table>\n",
              "</div>\n",
              "    <div class=\"colab-df-buttons\">\n",
              "\n",
              "  <div class=\"colab-df-container\">\n",
              "    <button class=\"colab-df-convert\" onclick=\"convertToInteractive('df-42625eee-477d-4018-94fa-96d042d06005')\"\n",
              "            title=\"Convert this dataframe to an interactive table.\"\n",
              "            style=\"display:none;\">\n",
              "\n",
              "  <svg xmlns=\"http://www.w3.org/2000/svg\" height=\"24px\" viewBox=\"0 -960 960 960\">\n",
              "    <path d=\"M120-120v-720h720v720H120Zm60-500h600v-160H180v160Zm220 220h160v-160H400v160Zm0 220h160v-160H400v160ZM180-400h160v-160H180v160Zm440 0h160v-160H620v160ZM180-180h160v-160H180v160Zm440 0h160v-160H620v160Z\"/>\n",
              "  </svg>\n",
              "    </button>\n",
              "\n",
              "  <style>\n",
              "    .colab-df-container {\n",
              "      display:flex;\n",
              "      gap: 12px;\n",
              "    }\n",
              "\n",
              "    .colab-df-convert {\n",
              "      background-color: #E8F0FE;\n",
              "      border: none;\n",
              "      border-radius: 50%;\n",
              "      cursor: pointer;\n",
              "      display: none;\n",
              "      fill: #1967D2;\n",
              "      height: 32px;\n",
              "      padding: 0 0 0 0;\n",
              "      width: 32px;\n",
              "    }\n",
              "\n",
              "    .colab-df-convert:hover {\n",
              "      background-color: #E2EBFA;\n",
              "      box-shadow: 0px 1px 2px rgba(60, 64, 67, 0.3), 0px 1px 3px 1px rgba(60, 64, 67, 0.15);\n",
              "      fill: #174EA6;\n",
              "    }\n",
              "\n",
              "    .colab-df-buttons div {\n",
              "      margin-bottom: 4px;\n",
              "    }\n",
              "\n",
              "    [theme=dark] .colab-df-convert {\n",
              "      background-color: #3B4455;\n",
              "      fill: #D2E3FC;\n",
              "    }\n",
              "\n",
              "    [theme=dark] .colab-df-convert:hover {\n",
              "      background-color: #434B5C;\n",
              "      box-shadow: 0px 1px 3px 1px rgba(0, 0, 0, 0.15);\n",
              "      filter: drop-shadow(0px 1px 2px rgba(0, 0, 0, 0.3));\n",
              "      fill: #FFFFFF;\n",
              "    }\n",
              "  </style>\n",
              "\n",
              "    <script>\n",
              "      const buttonEl =\n",
              "        document.querySelector('#df-42625eee-477d-4018-94fa-96d042d06005 button.colab-df-convert');\n",
              "      buttonEl.style.display =\n",
              "        google.colab.kernel.accessAllowed ? 'block' : 'none';\n",
              "\n",
              "      async function convertToInteractive(key) {\n",
              "        const element = document.querySelector('#df-42625eee-477d-4018-94fa-96d042d06005');\n",
              "        const dataTable =\n",
              "          await google.colab.kernel.invokeFunction('convertToInteractive',\n",
              "                                                    [key], {});\n",
              "        if (!dataTable) return;\n",
              "\n",
              "        const docLinkHtml = 'Like what you see? Visit the ' +\n",
              "          '<a target=\"_blank\" href=https://colab.research.google.com/notebooks/data_table.ipynb>data table notebook</a>'\n",
              "          + ' to learn more about interactive tables.';\n",
              "        element.innerHTML = '';\n",
              "        dataTable['output_type'] = 'display_data';\n",
              "        await google.colab.output.renderOutput(dataTable, element);\n",
              "        const docLink = document.createElement('div');\n",
              "        docLink.innerHTML = docLinkHtml;\n",
              "        element.appendChild(docLink);\n",
              "      }\n",
              "    </script>\n",
              "  </div>\n",
              "\n",
              "\n",
              "<div id=\"df-f36a152e-ba9d-436b-8abc-e875a67c0497\">\n",
              "  <button class=\"colab-df-quickchart\" onclick=\"quickchart('df-f36a152e-ba9d-436b-8abc-e875a67c0497')\"\n",
              "            title=\"Suggest charts\"\n",
              "            style=\"display:none;\">\n",
              "\n",
              "<svg xmlns=\"http://www.w3.org/2000/svg\" height=\"24px\"viewBox=\"0 0 24 24\"\n",
              "     width=\"24px\">\n",
              "    <g>\n",
              "        <path d=\"M19 3H5c-1.1 0-2 .9-2 2v14c0 1.1.9 2 2 2h14c1.1 0 2-.9 2-2V5c0-1.1-.9-2-2-2zM9 17H7v-7h2v7zm4 0h-2V7h2v10zm4 0h-2v-4h2v4z\"/>\n",
              "    </g>\n",
              "</svg>\n",
              "  </button>\n",
              "\n",
              "<style>\n",
              "  .colab-df-quickchart {\n",
              "      --bg-color: #E8F0FE;\n",
              "      --fill-color: #1967D2;\n",
              "      --hover-bg-color: #E2EBFA;\n",
              "      --hover-fill-color: #174EA6;\n",
              "      --disabled-fill-color: #AAA;\n",
              "      --disabled-bg-color: #DDD;\n",
              "  }\n",
              "\n",
              "  [theme=dark] .colab-df-quickchart {\n",
              "      --bg-color: #3B4455;\n",
              "      --fill-color: #D2E3FC;\n",
              "      --hover-bg-color: #434B5C;\n",
              "      --hover-fill-color: #FFFFFF;\n",
              "      --disabled-bg-color: #3B4455;\n",
              "      --disabled-fill-color: #666;\n",
              "  }\n",
              "\n",
              "  .colab-df-quickchart {\n",
              "    background-color: var(--bg-color);\n",
              "    border: none;\n",
              "    border-radius: 50%;\n",
              "    cursor: pointer;\n",
              "    display: none;\n",
              "    fill: var(--fill-color);\n",
              "    height: 32px;\n",
              "    padding: 0;\n",
              "    width: 32px;\n",
              "  }\n",
              "\n",
              "  .colab-df-quickchart:hover {\n",
              "    background-color: var(--hover-bg-color);\n",
              "    box-shadow: 0 1px 2px rgba(60, 64, 67, 0.3), 0 1px 3px 1px rgba(60, 64, 67, 0.15);\n",
              "    fill: var(--button-hover-fill-color);\n",
              "  }\n",
              "\n",
              "  .colab-df-quickchart-complete:disabled,\n",
              "  .colab-df-quickchart-complete:disabled:hover {\n",
              "    background-color: var(--disabled-bg-color);\n",
              "    fill: var(--disabled-fill-color);\n",
              "    box-shadow: none;\n",
              "  }\n",
              "\n",
              "  .colab-df-spinner {\n",
              "    border: 2px solid var(--fill-color);\n",
              "    border-color: transparent;\n",
              "    border-bottom-color: var(--fill-color);\n",
              "    animation:\n",
              "      spin 1s steps(1) infinite;\n",
              "  }\n",
              "\n",
              "  @keyframes spin {\n",
              "    0% {\n",
              "      border-color: transparent;\n",
              "      border-bottom-color: var(--fill-color);\n",
              "      border-left-color: var(--fill-color);\n",
              "    }\n",
              "    20% {\n",
              "      border-color: transparent;\n",
              "      border-left-color: var(--fill-color);\n",
              "      border-top-color: var(--fill-color);\n",
              "    }\n",
              "    30% {\n",
              "      border-color: transparent;\n",
              "      border-left-color: var(--fill-color);\n",
              "      border-top-color: var(--fill-color);\n",
              "      border-right-color: var(--fill-color);\n",
              "    }\n",
              "    40% {\n",
              "      border-color: transparent;\n",
              "      border-right-color: var(--fill-color);\n",
              "      border-top-color: var(--fill-color);\n",
              "    }\n",
              "    60% {\n",
              "      border-color: transparent;\n",
              "      border-right-color: var(--fill-color);\n",
              "    }\n",
              "    80% {\n",
              "      border-color: transparent;\n",
              "      border-right-color: var(--fill-color);\n",
              "      border-bottom-color: var(--fill-color);\n",
              "    }\n",
              "    90% {\n",
              "      border-color: transparent;\n",
              "      border-bottom-color: var(--fill-color);\n",
              "    }\n",
              "  }\n",
              "</style>\n",
              "\n",
              "  <script>\n",
              "    async function quickchart(key) {\n",
              "      const quickchartButtonEl =\n",
              "        document.querySelector('#' + key + ' button');\n",
              "      quickchartButtonEl.disabled = true;  // To prevent multiple clicks.\n",
              "      quickchartButtonEl.classList.add('colab-df-spinner');\n",
              "      try {\n",
              "        const charts = await google.colab.kernel.invokeFunction(\n",
              "            'suggestCharts', [key], {});\n",
              "      } catch (error) {\n",
              "        console.error('Error during call to suggestCharts:', error);\n",
              "      }\n",
              "      quickchartButtonEl.classList.remove('colab-df-spinner');\n",
              "      quickchartButtonEl.classList.add('colab-df-quickchart-complete');\n",
              "    }\n",
              "    (() => {\n",
              "      let quickchartButtonEl =\n",
              "        document.querySelector('#df-f36a152e-ba9d-436b-8abc-e875a67c0497 button');\n",
              "      quickchartButtonEl.style.display =\n",
              "        google.colab.kernel.accessAllowed ? 'block' : 'none';\n",
              "    })();\n",
              "  </script>\n",
              "</div>\n",
              "\n",
              "    </div>\n",
              "  </div>\n"
            ],
            "application/vnd.google.colaboratory.intrinsic+json": {
              "type": "dataframe",
              "variable_name": "csv",
              "summary": "{\n  \"name\": \"csv\",\n  \"rows\": 10000,\n  \"fields\": [\n    {\n      \"column\": \"Date\",\n      \"properties\": {\n        \"dtype\": \"object\",\n        \"num_unique_values\": 3110,\n        \"samples\": [\n          \"2012-03-04\",\n          \"2016-11-13\",\n          \"2009-11-23\"\n        ],\n        \"semantic_type\": \"\",\n        \"description\": \"\"\n      }\n    },\n    {\n      \"column\": \"Year\",\n      \"properties\": {\n        \"dtype\": \"number\",\n        \"std\": 4,\n        \"min\": 2009,\n        \"max\": 2022,\n        \"num_unique_values\": 14,\n        \"samples\": [\n          2018,\n          2020,\n          2009\n        ],\n        \"semantic_type\": \"\",\n        \"description\": \"\"\n      }\n    },\n    {\n      \"column\": \"Locality\",\n      \"properties\": {\n        \"dtype\": \"category\",\n        \"num_unique_values\": 7,\n        \"samples\": [\n          \"Waterbury\",\n          \"Bridgeport\",\n          \"West Hartford\"\n        ],\n        \"semantic_type\": \"\",\n        \"description\": \"\"\n      }\n    },\n    {\n      \"column\": \"Estimated Value\",\n      \"properties\": {\n        \"dtype\": \"number\",\n        \"std\": 779988.5337031306,\n        \"min\": 980.0,\n        \"max\": 21119910.0,\n        \"num_unique_values\": 7622,\n        \"samples\": [\n          704130.0,\n          200480.0,\n          304710.0\n        ],\n        \"semantic_type\": \"\",\n        \"description\": \"\"\n      }\n    },\n    {\n      \"column\": \"Sale Price\",\n      \"properties\": {\n        \"dtype\": \"number\",\n        \"std\": 1102810.3951816282,\n        \"min\": 2000.0,\n        \"max\": 25750000.0,\n        \"num_unique_values\": 2641,\n        \"samples\": [\n          97501.0,\n          65000.0,\n          1320000.0\n        ],\n        \"semantic_type\": \"\",\n        \"description\": \"\"\n      }\n    },\n    {\n      \"column\": \"Property\",\n      \"properties\": {\n        \"dtype\": \"category\",\n        \"num_unique_values\": 4,\n        \"samples\": [\n          \"Two Family\",\n          \"Four Family\",\n          \"Single Family\"\n        ],\n        \"semantic_type\": \"\",\n        \"description\": \"\"\n      }\n    },\n    {\n      \"column\": \"Residential\",\n      \"properties\": {\n        \"dtype\": \"category\",\n        \"num_unique_values\": 4,\n        \"samples\": [\n          \"Duplex\",\n          \"Fourplex\",\n          \"Detached House\"\n        ],\n        \"semantic_type\": \"\",\n        \"description\": \"\"\n      }\n    },\n    {\n      \"column\": \"num_rooms\",\n      \"properties\": {\n        \"dtype\": \"number\",\n        \"std\": 0,\n        \"min\": 3,\n        \"max\": 8,\n        \"num_unique_values\": 4,\n        \"samples\": [\n          4,\n          8,\n          3\n        ],\n        \"semantic_type\": \"\",\n        \"description\": \"\"\n      }\n    },\n    {\n      \"column\": \"num_bathrooms\",\n      \"properties\": {\n        \"dtype\": \"number\",\n        \"std\": 1,\n        \"min\": 1,\n        \"max\": 8,\n        \"num_unique_values\": 8,\n        \"samples\": [\n          2,\n          6,\n          3\n        ],\n        \"semantic_type\": \"\",\n        \"description\": \"\"\n      }\n    },\n    {\n      \"column\": \"carpet_area\",\n      \"properties\": {\n        \"dtype\": \"number\",\n        \"std\": 308.0268502584688,\n        \"min\": 900.0,\n        \"max\": 2989.0,\n        \"num_unique_values\": 878,\n        \"samples\": [\n          1918.0,\n          968.0,\n          1291.0\n        ],\n        \"semantic_type\": \"\",\n        \"description\": \"\"\n      }\n    },\n    {\n      \"column\": \"property_tax_rate\",\n      \"properties\": {\n        \"dtype\": \"number\",\n        \"std\": 0.16845792877909108,\n        \"min\": 1.003979,\n        \"max\": 1.422308,\n        \"num_unique_values\": 14,\n        \"samples\": [\n          1.422308,\n          1.0254395,\n          1.025953\n        ],\n        \"semantic_type\": \"\",\n        \"description\": \"\"\n      }\n    },\n    {\n      \"column\": \"Face\",\n      \"properties\": {\n        \"dtype\": \"category\",\n        \"num_unique_values\": 4,\n        \"samples\": [\n          \"East\",\n          \"West\",\n          \"South\"\n        ],\n        \"semantic_type\": \"\",\n        \"description\": \"\"\n      }\n    }\n  ]\n}"
            }
          },
          "metadata": {},
          "execution_count": 90
        }
      ]
    },
    {
      "cell_type": "code",
      "source": [
        "csv.iloc[692,0]"
      ],
      "metadata": {
        "colab": {
          "base_uri": "https://localhost:8080/",
          "height": 36
        },
        "id": "5jwaRyZAlSLU",
        "outputId": "8a4f9a88-069e-4bf6-e6d7-8ba5b0ba6cfb"
      },
      "execution_count": 91,
      "outputs": [
        {
          "output_type": "execute_result",
          "data": {
            "text/plain": [
              "'2009-11-16'"
            ],
            "application/vnd.google.colaboratory.intrinsic+json": {
              "type": "string"
            }
          },
          "metadata": {},
          "execution_count": 91
        }
      ]
    },
    {
      "cell_type": "code",
      "source": [
        "csv.iloc[546,7]"
      ],
      "metadata": {
        "colab": {
          "base_uri": "https://localhost:8080/"
        },
        "id": "RjkALNC6mPWW",
        "outputId": "4e0b28fd-ade1-4ae9-f580-4485a30bc1c8"
      },
      "execution_count": 92,
      "outputs": [
        {
          "output_type": "execute_result",
          "data": {
            "text/plain": [
              "3"
            ]
          },
          "metadata": {},
          "execution_count": 92
        }
      ]
    },
    {
      "cell_type": "code",
      "source": [
        "csv[\"Locality\"].unique().tolist()"
      ],
      "metadata": {
        "colab": {
          "base_uri": "https://localhost:8080/"
        },
        "id": "KptThtvamWNt",
        "outputId": "08f2636d-b844-46b1-8dec-3e38531592c2"
      },
      "execution_count": 93,
      "outputs": [
        {
          "output_type": "execute_result",
          "data": {
            "text/plain": [
              "['Waterbury',\n",
              " 'Bridgeport',\n",
              " 'Greenwich',\n",
              " 'Norwalk',\n",
              " nan,\n",
              " 'Fairfield',\n",
              " 'West Hartford',\n",
              " 'Stamford']"
            ]
          },
          "metadata": {},
          "execution_count": 93
        }
      ]
    },
    {
      "cell_type": "code",
      "source": [
        "missing_columns = csv.columns[csv.isna().any()]\n",
        "missing_columns.tolist()"
      ],
      "metadata": {
        "colab": {
          "base_uri": "https://localhost:8080/"
        },
        "id": "pW8m9dtHm_OF",
        "outputId": "f9c636fe-7103-459d-821b-c4bfb7472c9f"
      },
      "execution_count": 94,
      "outputs": [
        {
          "output_type": "execute_result",
          "data": {
            "text/plain": [
              "['Locality', 'Estimated Value', 'Property', 'carpet_area']"
            ]
          },
          "metadata": {},
          "execution_count": 94
        }
      ]
    },
    {
      "cell_type": "code",
      "source": [
        "clean_csv=(csv.isna().sum(axis = 1) <= 2).tolist()\n",
        "csv123=csv[clean_csv]\n",
        "csv123.shape"
      ],
      "metadata": {
        "colab": {
          "base_uri": "https://localhost:8080/"
        },
        "id": "cMYnuWIKojUm",
        "outputId": "3d2e253b-ca18-4e4d-b029-6891288a7a57"
      },
      "execution_count": 95,
      "outputs": [
        {
          "output_type": "execute_result",
          "data": {
            "text/plain": [
              "(9917, 12)"
            ]
          },
          "metadata": {},
          "execution_count": 95
        }
      ]
    },
    {
      "cell_type": "code",
      "source": [
        "no_nan = csv.dropna()\n",
        "no_nan.shape"
      ],
      "metadata": {
        "colab": {
          "base_uri": "https://localhost:8080/"
        },
        "id": "o6JAQ0kAtQO4",
        "outputId": "bb828817-1b0a-48e0-f447-4cabb56adc11"
      },
      "execution_count": 97,
      "outputs": [
        {
          "output_type": "execute_result",
          "data": {
            "text/plain": [
              "(5449, 12)"
            ]
          },
          "metadata": {},
          "execution_count": 97
        }
      ]
    },
    {
      "cell_type": "markdown",
      "source": [
        "**Week 1 Graded Assignment 1.2**"
      ],
      "metadata": {
        "id": "9bavfnOivYMn"
      }
    },
    {
      "cell_type": "code",
      "source": [
        "csv = pd.read_csv(\"Week1_GA_dataset (1).csv\")\n",
        "csv.shape"
      ],
      "metadata": {
        "colab": {
          "base_uri": "https://localhost:8080/"
        },
        "id": "OX8yiQEnvQTI",
        "outputId": "5f94ce63-4732-4061-c739-050d44043f5f"
      },
      "execution_count": 98,
      "outputs": [
        {
          "output_type": "execute_result",
          "data": {
            "text/plain": [
              "(10000, 12)"
            ]
          },
          "metadata": {},
          "execution_count": 98
        }
      ]
    },
    {
      "cell_type": "code",
      "source": [
        "even_indexed_rows = csv.iloc[::2]\n",
        "value = even_indexed_rows.iloc[0, 3]\n",
        "value"
      ],
      "metadata": {
        "colab": {
          "base_uri": "https://localhost:8080/"
        },
        "id": "SEHzoQubvn8Y",
        "outputId": "b8de1aa6-10ec-4170-d9f8-e2401ea07ab0"
      },
      "execution_count": 103,
      "outputs": [
        {
          "output_type": "execute_result",
          "data": {
            "text/plain": [
              "111440.0"
            ]
          },
          "metadata": {},
          "execution_count": 103
        }
      ]
    },
    {
      "cell_type": "code",
      "source": [
        "even_indexed_rows.iloc[332,3]"
      ],
      "metadata": {
        "colab": {
          "base_uri": "https://localhost:8080/"
        },
        "id": "Nn1a0foFwVWg",
        "outputId": "6f0402ad-5d00-45d4-e0f0-a9483a665a22"
      },
      "execution_count": 104,
      "outputs": [
        {
          "output_type": "execute_result",
          "data": {
            "text/plain": [
              "256200.0"
            ]
          },
          "metadata": {},
          "execution_count": 104
        }
      ]
    },
    {
      "cell_type": "code",
      "source": [
        "odd_index_rows = csv.iloc[1::2]\n",
        "odd_index_rows.iloc[332,3]"
      ],
      "metadata": {
        "colab": {
          "base_uri": "https://localhost:8080/"
        },
        "id": "QlUUJ2YAwh_x",
        "outputId": "4172b510-672b-4755-b6c9-54cbcf1e4daa"
      },
      "execution_count": 105,
      "outputs": [
        {
          "output_type": "execute_result",
          "data": {
            "text/plain": [
              "352940.0"
            ]
          },
          "metadata": {},
          "execution_count": 105
        }
      ]
    },
    {
      "cell_type": "code",
      "source": [
        "odd_index_col = csv.iloc[:,1::2]\n",
        "odd_index_col.iloc[100,5]"
      ],
      "metadata": {
        "colab": {
          "base_uri": "https://localhost:8080/",
          "height": 36
        },
        "id": "yVPezKqxw1_A",
        "outputId": "9431aee3-7a1c-4c51-888d-e2ffe415b88b"
      },
      "execution_count": 109,
      "outputs": [
        {
          "output_type": "execute_result",
          "data": {
            "text/plain": [
              "'West'"
            ],
            "application/vnd.google.colaboratory.intrinsic+json": {
              "type": "string"
            }
          },
          "metadata": {},
          "execution_count": 109
        }
      ]
    },
    {
      "cell_type": "code",
      "source": [
        "even_ind_rowcol = csv.iloc[::2,::2]\n",
        "even_ind_rowcol.iloc[255,3]"
      ],
      "metadata": {
        "colab": {
          "base_uri": "https://localhost:8080/",
          "height": 36
        },
        "id": "ZlI02cGZxkmB",
        "outputId": "ac24be35-c214-4e3f-8d55-14bb326238ed"
      },
      "execution_count": 110,
      "outputs": [
        {
          "output_type": "execute_result",
          "data": {
            "text/plain": [
              "'Detached House'"
            ],
            "application/vnd.google.colaboratory.intrinsic+json": {
              "type": "string"
            }
          },
          "metadata": {},
          "execution_count": 110
        }
      ]
    },
    {
      "cell_type": "code",
      "source": [
        "csv[csv[\"Year\"] >= (csv[\"Year\"].max() - 5)].shape"
      ],
      "metadata": {
        "colab": {
          "base_uri": "https://localhost:8080/"
        },
        "id": "SyqLtVTCx4Bo",
        "outputId": "8aeeaa5d-de34-4f8d-ed6a-c2cde922458c"
      },
      "execution_count": 115,
      "outputs": [
        {
          "output_type": "execute_result",
          "data": {
            "text/plain": [
              "(4749, 12)"
            ]
          },
          "metadata": {},
          "execution_count": 115
        }
      ]
    },
    {
      "cell_type": "code",
      "source": [
        "csv[(csv[\"num_rooms\"] == 3) & (csv[\"num_bathrooms\"] ==3)].shape"
      ],
      "metadata": {
        "colab": {
          "base_uri": "https://localhost:8080/"
        },
        "id": "jL4J_efay4hK",
        "outputId": "45054254-5fbe-4505-f718-ebe37d572a24"
      },
      "execution_count": 124,
      "outputs": [
        {
          "output_type": "execute_result",
          "data": {
            "text/plain": [
              "(2730, 12)"
            ]
          },
          "metadata": {},
          "execution_count": 124
        }
      ]
    },
    {
      "cell_type": "code",
      "source": [
        "csv[(csv[\"num_rooms\"] == 3) | (csv[\"num_bathrooms\"] ==3)].shape"
      ],
      "metadata": {
        "colab": {
          "base_uri": "https://localhost:8080/"
        },
        "id": "2kqSiwxiz09a",
        "outputId": "8d45c96f-bcbc-458c-a827-5bb09bd5f9a3"
      },
      "execution_count": 123,
      "outputs": [
        {
          "output_type": "execute_result",
          "data": {
            "text/plain": [
              "(8591, 12)"
            ]
          },
          "metadata": {},
          "execution_count": 123
        }
      ]
    },
    {
      "cell_type": "code",
      "source": [
        "csv[(csv[\"Year\"] == 2022) & (csv[\"Locality\"] == \"Greenwich\") & (csv[\"num_rooms\"] == 3) & ((csv[\"Face\"] == \"North\") | (csv[\"Face\"] == \"East\"))].shape"
      ],
      "metadata": {
        "colab": {
          "base_uri": "https://localhost:8080/"
        },
        "id": "BCcO6Hdu0Jhy",
        "outputId": "14f9e705-1255-44ca-e3c4-cc3e05bc2bf3"
      },
      "execution_count": 125,
      "outputs": [
        {
          "output_type": "execute_result",
          "data": {
            "text/plain": [
              "(42, 12)"
            ]
          },
          "metadata": {},
          "execution_count": 125
        }
      ]
    },
    {
      "cell_type": "code",
      "source": [
        "def aug(csv):\n",
        "  dt = csv[\"Date\"].split(\"-\")\n",
        "  if(dt[1] == \"08\"):\n",
        "    return True\n",
        "  else:\n",
        "    return False\n",
        "\n",
        "csv1 = csv.apply(aug, axis=1)\n",
        "csv1.sum()"
      ],
      "metadata": {
        "colab": {
          "base_uri": "https://localhost:8080/"
        },
        "id": "BN1-fmlw1Hbi",
        "outputId": "f4193e8e-e5b1-4443-fe88-b992f0d25fdd"
      },
      "execution_count": 135,
      "outputs": [
        {
          "output_type": "execute_result",
          "data": {
            "text/plain": [
              "1050"
            ]
          },
          "metadata": {},
          "execution_count": 135
        }
      ]
    },
    {
      "cell_type": "code",
      "source": [
        "loc = csv.groupby(\"Locality\")[\"Sale Price\"].mean()\n",
        "loc"
      ],
      "metadata": {
        "colab": {
          "base_uri": "https://localhost:8080/",
          "height": 335
        },
        "id": "T7oWGXw528Nb",
        "outputId": "26ad178e-9605-44b9-8b49-479eaa00b317"
      },
      "execution_count": 143,
      "outputs": [
        {
          "output_type": "execute_result",
          "data": {
            "text/plain": [
              "Locality\n",
              "Bridgeport       1.740953e+05\n",
              "Fairfield        7.277225e+05\n",
              "Greenwich        2.270224e+06\n",
              "Norwalk          5.590959e+05\n",
              "Stamford         6.305313e+05\n",
              "Waterbury        1.062152e+05\n",
              "West Hartford    3.385472e+05\n",
              "Name: Sale Price, dtype: float64"
            ],
            "text/html": [
              "<div>\n",
              "<style scoped>\n",
              "    .dataframe tbody tr th:only-of-type {\n",
              "        vertical-align: middle;\n",
              "    }\n",
              "\n",
              "    .dataframe tbody tr th {\n",
              "        vertical-align: top;\n",
              "    }\n",
              "\n",
              "    .dataframe thead th {\n",
              "        text-align: right;\n",
              "    }\n",
              "</style>\n",
              "<table border=\"1\" class=\"dataframe\">\n",
              "  <thead>\n",
              "    <tr style=\"text-align: right;\">\n",
              "      <th></th>\n",
              "      <th>Sale Price</th>\n",
              "    </tr>\n",
              "    <tr>\n",
              "      <th>Locality</th>\n",
              "      <th></th>\n",
              "    </tr>\n",
              "  </thead>\n",
              "  <tbody>\n",
              "    <tr>\n",
              "      <th>Bridgeport</th>\n",
              "      <td>1.740953e+05</td>\n",
              "    </tr>\n",
              "    <tr>\n",
              "      <th>Fairfield</th>\n",
              "      <td>7.277225e+05</td>\n",
              "    </tr>\n",
              "    <tr>\n",
              "      <th>Greenwich</th>\n",
              "      <td>2.270224e+06</td>\n",
              "    </tr>\n",
              "    <tr>\n",
              "      <th>Norwalk</th>\n",
              "      <td>5.590959e+05</td>\n",
              "    </tr>\n",
              "    <tr>\n",
              "      <th>Stamford</th>\n",
              "      <td>6.305313e+05</td>\n",
              "    </tr>\n",
              "    <tr>\n",
              "      <th>Waterbury</th>\n",
              "      <td>1.062152e+05</td>\n",
              "    </tr>\n",
              "    <tr>\n",
              "      <th>West Hartford</th>\n",
              "      <td>3.385472e+05</td>\n",
              "    </tr>\n",
              "  </tbody>\n",
              "</table>\n",
              "</div><br><label><b>dtype:</b> float64</label>"
            ]
          },
          "metadata": {},
          "execution_count": 143
        }
      ]
    }
  ]
}